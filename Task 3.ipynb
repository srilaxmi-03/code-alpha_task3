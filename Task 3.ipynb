{
 "cells": [
  {
   "cell_type": "markdown",
   "id": "a25e2297",
   "metadata": {},
   "source": [
    "# Basic chatbox"
   ]
  },
  {
   "cell_type": "code",
   "execution_count": 1,
   "id": "9c7d1275",
   "metadata": {},
   "outputs": [
    {
     "name": "stdout",
     "output_type": "stream",
     "text": [
      "🤖 Chatbot: Hello! I'm your simple chatbot. Type 'bye' to exit.\n",
      "🤖 Chatbot: Sorry, I don’t understand that. Can you try something else?\n",
      "🤖 Chatbot: Sorry, I don’t understand that. Can you try something else?\n",
      "🤖 Chatbot: Hi there! 👋\n",
      "🤖 Chatbot: I'm fine, thanks for asking! How about you?\n",
      "🤖 Chatbot: I'm a simple rule-based chatbot created in Python.\n",
      "🤖 Chatbot: Goodbye! Have a great day! 👋\n"
     ]
    }
   ],
   "source": [
    "def chatbot():\n",
    "    print(\"🤖 Chatbot: Hello! I'm your simple chatbot. Type 'bye' to exit.\")\n",
    "    \n",
    "    while True:\n",
    "        user_input = input(\"You: \").lower().strip()\n",
    "        \n",
    "        if user_input in [\"hi\", \"hello\", \"hey\"]:\n",
    "            print(\"🤖 Chatbot: Hi there! 👋\")\n",
    "        elif user_input in [\"how are you\", \"how are you doing\"]:\n",
    "            print(\"🤖 Chatbot: I'm fine, thanks for asking! How about you?\")\n",
    "        elif user_input in [\"i'm fine\", \"i am fine\", \"good\", \"great\"]:\n",
    "            print(\"🤖 Chatbot: That's wonderful to hear! 😊\")\n",
    "        elif user_input in [\"what is your name\", \"who are you\"]:\n",
    "            print(\"🤖 Chatbot: I'm a simple rule-based chatbot created in Python.\")\n",
    "        elif user_input in [\"bye\", \"exit\", \"quit\"]:\n",
    "            print(\"🤖 Chatbot: Goodbye! Have a great day! 👋\")\n",
    "            break\n",
    "        else:\n",
    "            print(\"🤖 Chatbot: Sorry, I don’t understand that. Can you try something else?\")\n",
    "\n",
    "if __name__ == \"__main__\":\n",
    "    chatbot()\n"
   ]
  }
 ],
 "metadata": {
  "kernelspec": {
   "display_name": "Python 3",
   "language": "python",
   "name": "python3"
  },
  "language_info": {
   "codemirror_mode": {
    "name": "ipython",
    "version": 3
   },
   "file_extension": ".py",
   "mimetype": "text/x-python",
   "name": "python",
   "nbconvert_exporter": "python",
   "pygments_lexer": "ipython3",
   "version": "3.13.5"
  }
 },
 "nbformat": 4,
 "nbformat_minor": 5
}
